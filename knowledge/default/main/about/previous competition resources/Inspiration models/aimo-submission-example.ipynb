{
 "cells": [
  {
   "cell_type": "markdown",
   "id": "7343c9ed",
   "metadata": {
    "papermill": {
     "duration": 0.00369,
     "end_time": "2024-04-26T17:03:48.161208",
     "exception": false,
     "start_time": "2024-04-26T17:03:48.157518",
     "status": "completed"
    },
    "tags": []
   },
   "source": [
    "This notebook demonstrates the use of the evaluation API for the AIMO competition. It has the following features:\n",
    "- Test problems are served to your model one-at-a-time and in random order. The random ordering will vary across submissions.\n",
    "- Each problem will only be served once. You must make a prediction for each problem before being served the next problem. You cannot change previously made predictions."
   ]
  },
  {
   "cell_type": "code",
   "execution_count": 1,
   "id": "cb00082b",
   "metadata": {
    "execution": {
     "iopub.execute_input": "2024-04-26T17:03:48.169724Z",
     "iopub.status.busy": "2024-04-26T17:03:48.168967Z",
     "iopub.status.idle": "2024-04-26T17:03:48.182141Z",
     "shell.execute_reply": "2024-04-26T17:03:48.181171Z"
    },
    "papermill": {
     "duration": 0.021031,
     "end_time": "2024-04-26T17:03:48.185478",
     "exception": false,
     "start_time": "2024-04-26T17:03:48.164447",
     "status": "completed"
    },
    "tags": []
   },
   "outputs": [],
   "source": [
    "# Define your model\n",
    "class Model:\n",
    "    def predict(self, x):\n",
    "        return 0\n",
    "\n",
    "model = Model()"
   ]
  },
  {
   "cell_type": "code",
   "execution_count": 2,
   "id": "51f2874a",
   "metadata": {
    "execution": {
     "iopub.execute_input": "2024-04-26T17:03:48.194231Z",
     "iopub.status.busy": "2024-04-26T17:03:48.193499Z",
     "iopub.status.idle": "2024-04-26T17:03:49.332409Z",
     "shell.execute_reply": "2024-04-26T17:03:49.330997Z"
    },
    "papermill": {
     "duration": 1.146628,
     "end_time": "2024-04-26T17:03:49.335393",
     "exception": false,
     "start_time": "2024-04-26T17:03:48.188765",
     "status": "completed"
    },
    "tags": []
   },
   "outputs": [],
   "source": [
    "# Set up the evaluation API\n",
    "import aimo\n",
    "\n",
    "env = aimo.make_env()\n",
    "iter_test = env.iter_test()"
   ]
  },
  {
   "cell_type": "markdown",
   "id": "316cf2e4",
   "metadata": {
    "papermill": {
     "duration": 0.002606,
     "end_time": "2024-04-26T17:03:49.341138",
     "exception": false,
     "start_time": "2024-04-26T17:03:49.338532",
     "status": "completed"
    },
    "tags": []
   },
   "source": [
    "Note that this public version of the API does not randomize the order in which problems are served. The API used when your submission is scored will randomize the order."
   ]
  },
  {
   "cell_type": "code",
   "execution_count": 3,
   "id": "60a993dc",
   "metadata": {
    "execution": {
     "iopub.execute_input": "2024-04-26T17:03:49.349584Z",
     "iopub.status.busy": "2024-04-26T17:03:49.348679Z",
     "iopub.status.idle": "2024-04-26T17:03:49.408207Z",
     "shell.execute_reply": "2024-04-26T17:03:49.406836Z"
    },
    "papermill": {
     "duration": 0.066863,
     "end_time": "2024-04-26T17:03:49.410760",
     "exception": false,
     "start_time": "2024-04-26T17:03:49.343897",
     "status": "completed"
    },
    "tags": []
   },
   "outputs": [
    {
     "name": "stdout",
     "output_type": "stream",
     "text": [
      "This version of the API is not optimized and should not be used to estimate the runtime of your code on the hidden test set.\n",
      "       id         problem\n",
      "0  000aaa  What is $1-1$?\n",
      "       id  answer\n",
      "0  000aaa       0 \n",
      "\n",
      "       id               problem\n",
      "0  111bbb  What is $0\\times10$?\n",
      "       id  answer\n",
      "0  111bbb       0 \n",
      "\n",
      "       id                 problem\n",
      "0  222ccc  Solve $4+x=4$ for $x$.\n",
      "       id  answer\n",
      "0  222ccc       0 \n",
      "\n"
     ]
    }
   ],
   "source": [
    "# Iterate through the test set and use the model make predictions\n",
    "for test, sample_submission in iter_test:\n",
    "    sample_submission['answer'] = model.predict(test['problem'])\n",
    "    env.predict(sample_submission)\n",
    "    print(test)\n",
    "    print(sample_submission, '\\n')"
   ]
  }
 ],
 "metadata": {
  "kaggle": {
   "accelerator": "none",
   "dataSources": [
    {
     "databundleVersionId": 8365361,
     "sourceId": 73231,
     "sourceType": "competition"
    }
   ],
   "dockerImageVersionId": 30698,
   "isGpuEnabled": false,
   "isInternetEnabled": false,
   "language": "python",
   "sourceType": "notebook"
  },
  "kernelspec": {
   "display_name": "Python 3",
   "language": "python",
   "name": "python3"
  },
  "language_info": {
   "codemirror_mode": {
    "name": "ipython",
    "version": 3
   },
   "file_extension": ".py",
   "mimetype": "text/x-python",
   "name": "python",
   "nbconvert_exporter": "python",
   "pygments_lexer": "ipython3",
   "version": "3.10.13"
  },
  "papermill": {
   "default_parameters": {},
   "duration": 5.230173,
   "end_time": "2024-04-26T17:03:49.937832",
   "environment_variables": {},
   "exception": null,
   "input_path": "__notebook__.ipynb",
   "output_path": "__notebook__.ipynb",
   "parameters": {},
   "start_time": "2024-04-26T17:03:44.707659",
   "version": "2.5.0"
  }
 },
 "nbformat": 4,
 "nbformat_minor": 5
}
