{
 "cells": [
  {
   "cell_type": "code",
   "execution_count": 1,
   "metadata": {},
   "outputs": [
    {
     "name": "stdout",
     "output_type": "stream",
     "text": [
      "\u001b[31mERROR: Could not find a version that satisfies the requirement os (from versions: none)\u001b[0m\u001b[31m\n",
      "\u001b[0m\u001b[31mERROR: No matching distribution found for os\u001b[0m\u001b[31m\n",
      "\u001b[0mNote: you may need to restart the kernel to use updated packages.\n"
     ]
    }
   ],
   "source": [
    "%pip install os\n",
    "\n"
   ]
  },
  {
   "cell_type": "code",
   "execution_count": 2,
   "metadata": {},
   "outputs": [],
   "source": [
    "import os\n",
    "\n",
    "# Directory path\n",
    "dir_path = \"/Users/ryangichuru/Documents/SSD-K/Personal Folder/AIMO Kaggle 2024/AIMO Prize 2/aimo-competition/AIMO-2-Project-Resources/Current Competition Resources/AI Resources/Images:Videos/transcriptions\"\n",
    "\n",
    "# Get all .txt files and sort them\n",
    "files = sorted([f for f in os.listdir(dir_path) if f.endswith('.txt')])\n",
    "\n",
    "# Combine content with spacing\n",
    "with open(os.path.join(dir_path, 'combined_transcripts.txt'), 'w', encoding='utf-8') as outfile:\n",
    "    for i, fname in enumerate(files):\n",
    "        with open(os.path.join(dir_path, fname), 'r', encoding='utf-8') as infile:\n",
    "            # Read lines and remove line numbers\n",
    "            lines = infile.readlines()\n",
    "            content = ''.join([line.split('|')[1] if '|' in line else line for line in lines])\n",
    "            content = content.strip()\n",
    "            outfile.write(content)\n",
    "            \n",
    "            # Add double newline between files except for last file\n",
    "            if i < len(files) - 1:\n",
    "                outfile.write('\\n\\n')"
   ]
  }
 ],
 "metadata": {
  "kernelspec": {
   "display_name": "base",
   "language": "python",
   "name": "python3"
  },
  "language_info": {
   "codemirror_mode": {
    "name": "ipython",
    "version": 3
   },
   "file_extension": ".py",
   "mimetype": "text/x-python",
   "name": "python",
   "nbconvert_exporter": "python",
   "pygments_lexer": "ipython3",
   "version": "3.12.2"
  }
 },
 "nbformat": 4,
 "nbformat_minor": 2
}
